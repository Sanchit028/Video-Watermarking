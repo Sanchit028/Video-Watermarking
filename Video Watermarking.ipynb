{
 "cells": [
  {
   "cell_type": "code",
   "execution_count": null,
   "id": "3174e336",
   "metadata": {},
   "outputs": [],
   "source": [
    "# !pip install opencv-python\n",
    "# install and configure ffmpeg on the system"
   ]
  },
  {
   "cell_type": "code",
   "execution_count": null,
   "id": "3f09460c",
   "metadata": {},
   "outputs": [],
   "source": [
    "import numpy as np\n",
    "import cv2\n",
    "import matplotlib.pyplot as plt\n",
    "import os\n",
    "import requests\n",
    "import IPython.display as ipd\n",
    "import subprocess"
   ]
  },
  {
   "cell_type": "code",
   "execution_count": null,
   "id": "a64bcafc",
   "metadata": {},
   "outputs": [],
   "source": [
    "VIDEO_TYPE = {\n",
    "    '.avi': cv2.VideoWriter_fourcc(*'XVID'),\n",
    "    '.mp4': cv2.VideoWriter_fourcc(*'H264'),\n",
    "}"
   ]
  },
  {
   "cell_type": "code",
   "execution_count": null,
   "id": "7a3216e9",
   "metadata": {},
   "outputs": [],
   "source": [
    "input_file = input(\"Enter the name of Raw Video: \")\n",
    "subprocess.run(['ffmpeg', '-i', input_file,'-qscale', '0', 'process.mp4', '-loglevel', 'quiet'])"
   ]
  },
  {
   "cell_type": "code",
   "execution_count": null,
   "id": "d6421fca",
   "metadata": {},
   "outputs": [],
   "source": [
    "audio_file = 'audio.mp3' \n",
    "subprocess.run(['ffmpeg', '-i', input_file, '-q:a', '0', audio_file, '-loglevel', 'quiet'])"
   ]
  },
  {
   "cell_type": "code",
   "execution_count": null,
   "id": "a266e50a",
   "metadata": {},
   "outputs": [],
   "source": [
    "ipd.Video('process.mp4')"
   ]
  },
  {
   "cell_type": "code",
   "execution_count": null,
   "id": "b54822d9",
   "metadata": {},
   "outputs": [],
   "source": [
    "def image_resize(image, width = None, height = None, inter = cv2.INTER_AREA):\n",
    "    dim = None\n",
    "    (h, w) = image.shape[:2]\n",
    "    \n",
    "    if width is None and height is None:\n",
    "        return image\n",
    "    if width is None:\n",
    "        r = height / float(h)\n",
    "        dim = (int(w * r), height)\n",
    "    else:\n",
    "        r = width / float(w)\n",
    "        dim = (width, int(h * r))\n",
    "\n",
    "    resized = cv2.resize(image, dim, interpolation = inter)\n",
    "    return resized\n",
    "\n",
    "def hollow_watermark(Text):\n",
    "    fig, ax = plt.subplots(figsize=(6, 2))\n",
    "    ax.text(0.5, 0.5, Text, fontsize=36, ha=\"center\", va=\"center\")\n",
    "    ax.axis(\"off\")\n",
    "    plt.savefig(\"watermark.png\", bbox_inches=\"tight\", pad_inches=0)\n",
    "    \n",
    "def filled_watermark(Text):\n",
    "    fig, ax = plt.subplots(figsize=(6, 2))\n",
    "    ax.text(0.5, 0.5, Text, fontsize=36, ha=\"center\", va=\"center\", color='white')\n",
    "    ax.axis(\"off\")\n",
    "    plt.savefig(\"watermark.png\", bbox_inches=\"tight\", pad_inches=0, facecolor=\"black\")\n",
    "    \n",
    "def txtwatermark_type():\n",
    "    while True:\n",
    "        print(\"Choose a watermark text type:\")\n",
    "        print(\"1. Hollow Watermark\")\n",
    "        print(\"2. Filled Watermark\")\n",
    "        choice = int(input(\"Enter the option (1 or 2): \"))\n",
    "        if choice == 1 or choice == 2:\n",
    "            break\n",
    "        else:\n",
    "            print(\"Invalid Input. Try again.\")\n",
    "    return choice\n",
    "\n",
    "def txtwatermark_placement():\n",
    "    while True:\n",
    "        print(\"Choose where you want to place the watermark:\")\n",
    "        print(\"1. Bottom-Right Corner\")\n",
    "        print(\"2. Horizontal Watermark\")\n",
    "        choice = int(input(\"Enter the option (1 or 2): \"))\n",
    "        if choice == 1 or choice == 2:\n",
    "            break\n",
    "        else:\n",
    "            print(\"Invalid Input. Try again.\")\n",
    "    return choice\n",
    "\n",
    "def txt_or_img():\n",
    "    while True:\n",
    "        print(\"Choose the type of watermark:\")\n",
    "        print(\"1. Text\")\n",
    "        print(\"2. Image\")\n",
    "        choice = int(input(\"Enter the option (1 or 2): \"))\n",
    "        if choice == 1 or choice == 2:\n",
    "            break\n",
    "        else:\n",
    "            print(\"Invalid Input. Try again.\")\n",
    "    return choice"
   ]
  },
  {
   "cell_type": "code",
   "execution_count": null,
   "id": "6ab418d8",
   "metadata": {},
   "outputs": [],
   "source": [
    "cap = cv2.VideoCapture('process.mp4')"
   ]
  },
  {
   "cell_type": "code",
   "execution_count": null,
   "id": "b47c03e0",
   "metadata": {},
   "outputs": [],
   "source": [
    "Frame_count=int(cap.get(cv2.CAP_PROP_FRAME_COUNT))\n",
    "print('No. of Frames = ', Frame_count)\n",
    "\n",
    "height = cap.get(cv2.CAP_PROP_FRAME_HEIGHT)\n",
    "width = cap.get(cv2.CAP_PROP_FRAME_WIDTH)\n",
    "print('Height', height, 'Width', width)\n",
    "\n",
    "fps = cap.get(cv2.CAP_PROP_FPS)\n",
    "print('FPS : ', round(fps, 2))"
   ]
  },
  {
   "cell_type": "code",
   "execution_count": null,
   "id": "a97860c0",
   "metadata": {},
   "outputs": [],
   "source": [
    "text_or_image= txt_or_img()\n",
    "k=True\n",
    "if text_or_image == 1:\n",
    "    choice1 = txtwatermark_type()\n",
    "    text = input(\"Enter the text for the watermark: \")\n",
    "    if choice1 == 1:\n",
    "        hollow_watermark(text)\n",
    "    elif choice1 == 2:\n",
    "        filled_watermark(text)\n",
    "    \n",
    "    choice2 = txtwatermark_placement()\n",
    "    if choice2 == 1:\n",
    "        img_path = 'watermark.png'\n",
    "        logo = cv2.imread(img_path, -1)\n",
    "        watermark = image_resize(logo, height=100)\n",
    "        watermark = cv2.cvtColor(watermark, cv2.COLOR_BGR2BGRA)\n",
    "    elif choice2 == 2:\n",
    "        img_path = 'watermark.png'\n",
    "        logo = cv2.imread(img_path, -1)\n",
    "        watermark_width=width\n",
    "        watermark = image_resize(logo, width= int(watermark_width))\n",
    "        watermark = cv2.cvtColor(watermark, cv2.COLOR_BGR2BGRA)\n",
    "        k=False\n",
    "        \n",
    "elif text_or_image == 2:\n",
    "    while True:\n",
    "        image_url = input(\"Enter the url of image: \")\n",
    "        response = requests.get(image_url)\n",
    "        if response.status_code == 200:\n",
    "            image_data = response.content\n",
    "            image_path = \"watermark.png\"\n",
    "            with open(image_path, \"wb\") as image_file:\n",
    "                image_file.write(image_data)\n",
    "            print(f\"Image downloaded and saved as {image_path}\")\n",
    "            break\n",
    "        \n",
    "        else:\n",
    "            print(f\"Failed to download image. Status code: {response.status_code}\")\n",
    "    \n",
    "    img_path = 'watermark.png'\n",
    "    logo = cv2.imread(img_path, -1)\n",
    "    watermark = image_resize(logo, height=100)\n",
    "    watermark = cv2.cvtColor(watermark, cv2.COLOR_BGR2BGRA)\n",
    "        \n",
    "opacity = int(input(\"Enter the opacity percentage: \"))/100"
   ]
  },
  {
   "cell_type": "code",
   "execution_count": null,
   "id": "b4829778",
   "metadata": {},
   "outputs": [],
   "source": [
    "frames=[]\n",
    "for frame in range(Frame_count):\n",
    "    ret, img = cap.read()\n",
    "    if ret == False:\n",
    "        break\n",
    "    img = cv2.cvtColor(img, cv2.COLOR_BGR2BGRA)\n",
    "    overlay = np.zeros((int(height), int(width), 4), dtype='uint8')\n",
    "            \n",
    "    watermark_h, watermark_w, watermark_c = watermark.shape\n",
    "    for i in range(0, watermark_h):\n",
    "        for j in range(0, watermark_w):\n",
    "            if watermark[i,j][3] != 0:\n",
    "                offset = 10\n",
    "                h_offset = int((height - watermark_h - offset) if k else (height - watermark_h)/2)\n",
    "                w_offset = int((width - watermark_w - offset) if k else (width - watermark_w)/2)\n",
    "                overlay[h_offset + i, w_offset+ j] = watermark[i,j]\n",
    "            \n",
    "    cv2.addWeighted(overlay, opacity, img, 1.0, 0, img)\n",
    "            \n",
    "    img = cv2.cvtColor(img, cv2.COLOR_BGRA2BGR)    \n",
    "    frames.append(img)\n",
    "    f=Frame_count - len(frames)\n",
    "    print(\"Frames Left: \", f)"
   ]
  },
  {
   "cell_type": "code",
   "execution_count": null,
   "id": "f073ed09",
   "metadata": {},
   "outputs": [],
   "source": [
    "# #If you want to see every frame\n",
    "\n",
    "# for img in frames:\n",
    "#     plt.imshow(cv2.cvtColor(img, cv2.COLOR_BGR2RGB))  # Convert BGR to RGB for Matplotlib\n",
    "#     plt.axis('off')  # Turn off axis labels\n",
    "#     plt.show()"
   ]
  },
  {
   "cell_type": "code",
   "execution_count": null,
   "id": "bceeb81b",
   "metadata": {},
   "outputs": [],
   "source": [
    "output_file = input(\"Enter the name of output file: \")\n",
    "\n",
    "filename, ext = os.path.splitext(output_file)\n",
    "if ext in VIDEO_TYPE:\n",
    "    fourcc = VIDEO_TYPE[ext]\n",
    "else:\n",
    "    print(\"Sorry. Invalid Extension. Video output will be in .mp4\")\n",
    "    output_file=filename+ \".mp4\"\n",
    "    fourcc = VIDEO_TYPE['.mp4']\n",
    "    \n",
    "out = cv2.VideoWriter(\"process2.mp4\", fourcc, fps,(int(width), int(height)))\n",
    "for img in frames:\n",
    "    out.write(img)\n",
    "\n",
    "out.release()\n",
    "subprocess.run(['ffmpeg', '-i', \"process2.mp4\" , '-i', 'audio.mp3', '-c:v', 'copy', '-c:a', 'aac', '-strict', 'experimental', output_file])\n",
    "cap.release()\n",
    "cv2.destroyAllWindows()\n"
   ]
  },
  {
   "cell_type": "code",
   "execution_count": null,
   "id": "2b062953",
   "metadata": {},
   "outputs": [],
   "source": [
    "ipd.Video(output_file)"
   ]
  },
  {
   "cell_type": "code",
   "execution_count": null,
   "id": "1b772795",
   "metadata": {},
   "outputs": [],
   "source": [
    "os.remove(\"process.mp4\")\n",
    "os.remove(\"process2.mp4\")\n",
    "os.remove(\"watermark.png\")\n",
    "os.remove(\"audio.mp3\")"
   ]
  },
  {
   "cell_type": "code",
   "execution_count": null,
   "metadata": {},
   "outputs": [],
   "source": []
  }
 ],
 "metadata": {
  "kernelspec": {
   "display_name": "Python 3 (ipykernel)",
   "language": "python",
   "name": "python3"
  },
  "language_info": {
   "codemirror_mode": {
    "name": "ipython",
    "version": 3
   },
   "file_extension": ".py",
   "mimetype": "text/x-python",
   "name": "python",
   "nbconvert_exporter": "python",
   "pygments_lexer": "ipython3",
   "version": "3.11.5"
  }
 },
 "nbformat": 4,
 "nbformat_minor": 5
}
